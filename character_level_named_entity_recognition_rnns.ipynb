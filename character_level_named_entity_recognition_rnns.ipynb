{
  "nbformat": 4,
  "nbformat_minor": 0,
  "metadata": {
    "colab": {
      "provenance": [],
      "machine_shape": "hm",
      "include_colab_link": true
    },
    "kernelspec": {
      "name": "python3",
      "display_name": "Python 3"
    },
    "accelerator": "GPU"
  },
  "cells": [
    {
      "cell_type": "markdown",
      "metadata": {
        "id": "view-in-github",
        "colab_type": "text"
      },
      "source": [
        "<a href=\"https://colab.research.google.com/github/spetrescu/delimiter-recongition-tokenizer/blob/main/character_level_named_entity_recognition_rnns.ipynb\" target=\"_parent\"><img src=\"https://colab.research.google.com/assets/colab-badge.svg\" alt=\"Open In Colab\"/></a>"
      ]
    },
    {
      "cell_type": "code",
      "metadata": {
        "id": "9XNJRcmoIJQU",
        "outputId": "a60e0d7c-fe02-4314-c6d4-5e3a463f3535",
        "colab": {
          "base_uri": "https://localhost:8080/"
        }
      },
      "source": [
        "try:\n",
        "  # %tensorflow_version only exists in Colab.\n",
        "  %tensorflow_version 2.x\n",
        "except Exception:\n",
        "  pass\n",
        "import tensorflow as tf\n",
        "\n",
        "import numpy as np\n",
        "import os\n",
        "import time\n",
        "\n",
        "print(tf.__version__)"
      ],
      "execution_count": null,
      "outputs": [
        {
          "output_type": "stream",
          "name": "stdout",
          "text": [
            "Colab only includes TensorFlow 2.x; %tensorflow_version has no effect.\n",
            "2.9.2\n"
          ]
        }
      ]
    },
    {
      "cell_type": "code",
      "source": [
        "# get code and data\n",
        "!git clone https://github.com/spetrescu/delimiter-recongition-tokenizer.git"
      ],
      "metadata": {
        "colab": {
          "base_uri": "https://localhost:8080/"
        },
        "id": "tLgFKKupUX2H",
        "outputId": "92a27ed0-d922-408e-8800-6da584f46eab"
      },
      "execution_count": null,
      "outputs": [
        {
          "output_type": "stream",
          "name": "stdout",
          "text": [
            "Cloning into 'delimiter-recongition-tokenizer'...\n",
            "remote: Enumerating objects: 6, done.\u001b[K\n",
            "remote: Counting objects: 100% (6/6), done.\u001b[K\n",
            "remote: Compressing objects: 100% (4/4), done.\u001b[K\n",
            "remote: Total 6 (delta 0), reused 3 (delta 0), pack-reused 0\u001b[K\n",
            "Unpacking objects: 100% (6/6), done.\n"
          ]
        }
      ]
    },
    {
      "cell_type": "code",
      "source": [
        "cd delimiter-recongition-tokenizer"
      ],
      "metadata": {
        "colab": {
          "base_uri": "https://localhost:8080/"
        },
        "id": "1OJrwZJoUvup",
        "outputId": "44a698a8-20ea-4271-b4e0-3ad33f31e254"
      },
      "execution_count": null,
      "outputs": [
        {
          "output_type": "stream",
          "name": "stdout",
          "text": [
            "/content/delimiter-recongition-tokenizer\n"
          ]
        }
      ]
    },
    {
      "cell_type": "code",
      "source": [
        "!ls"
      ],
      "metadata": {
        "colab": {
          "base_uri": "https://localhost:8080/"
        },
        "id": "LgTsvaAjU0Ik",
        "outputId": "ca994bdb-e03e-49a7-f0b5-2d4baeb165b7"
      },
      "execution_count": null,
      "outputs": [
        {
          "output_type": "stream",
          "name": "stdout",
          "text": [
            "README.md  synthetic_logs_10k.csv\n"
          ]
        }
      ]
    },
    {
      "cell_type": "code",
      "source": [
        "# read data\n",
        "synthetic_logs = []\n",
        "synthetic_logs_labels = []\n",
        "\n",
        "a = 0\n",
        "b = 0\n",
        "train_examples = []\n",
        "test_examples = []\n",
        "with open(\"synthetic_logs_10k.csv\") as f:\n",
        "    next(f)\n",
        "    for line in f:\n",
        "      a += 1\n",
        "      if a <= 2559:\n",
        "        csv_row = line.split(\",\")\n",
        "        synthetic_logs.append(list(csv_row[0]))\n",
        "        synthetic_logs_labels.append(list(str(csv_row[1]).strip()))\n",
        "        train_examples.append([[list(csv_row[0]), list(str(csv_row[1]).strip())]])\n",
        "      else:\n",
        "        b += 1\n",
        "        if b <= 255:\n",
        "          csv_row = line.split(\",\")\n",
        "          test_examples.append([[list(csv_row[0]), list(str(csv_row[1]).strip())]])\n",
        "        else:\n",
        "          break\n",
        "      \n",
        "\n",
        "for el in train_examples:\n",
        "  print(el[0][0])\n",
        "  print(el[0][1])\n",
        "  break\n",
        "\n",
        "print(\"hey\")\n",
        "for el in test_examples:\n",
        "  print(el[0][0])\n",
        "  print(el[0][1])\n",
        "  break"
      ],
      "metadata": {
        "colab": {
          "base_uri": "https://localhost:8080/"
        },
        "id": "mdx0s3ilVH3U",
        "outputId": "ecb2ba3e-b42e-47eb-f187-d391533c3766"
      },
      "execution_count": null,
      "outputs": [
        {
          "output_type": "stream",
          "name": "stdout",
          "text": [
            "['s', 'w', 'a', 'y', ' ', 'y', 'e', 's', 'e', 's', ' ', 't', 'h', 'a', 't', ' ', 'a', 'm', ':', 'f', 'i', 'v', 'e', ':', 'L', 'o', 'g', ' ', 't', 'r', 'y', ' ', 'j', 'a', 'y', ' ', 'g', 'i', 'v', 'e', 'n', ' ', '9', '0', ' ', 's', 'j', 'd', 'f', 's', '8', '3', '4']\n",
            "['O', 'O', 'O', 'O', 'D', 'O', 'O', 'O', 'O', 'O', 'D', 'O', 'O', 'O', 'O', 'D', 'O', 'O', 'D', 'O', 'O', 'O', 'O', 'D', 'O', 'O', 'O', 'D', 'O', 'O', 'O', 'D', 'O', 'O', 'O', 'D', 'O', 'O', 'O', 'O', 'O', 'D', 'O', 'O', 'D', 'O', 'O', 'O', 'O', 'O', 'O', 'O', 'O']\n",
            "hey\n",
            "['j', 'a', 'y', ' ', 's', 'w', 'a', 'y', ' ', 'h', 'i', 'd', 'e', ' ', 'j', 'a', 'y', ' ', 't', 'r', 'y', ' ', 'a', 'm', ' ', 'h', 'i', 'd', 'e', ' ', 'j', 'a', 'y', ' ', '3', '0', ';', 'm', 'i', 'g', 'h', 't', ' ', '6', '4', '5', '3']\n",
            "['O', 'O', 'O', 'D', 'O', 'O', 'O', 'O', 'D', 'O', 'O', 'O', 'O', 'D', 'O', 'O', 'O', 'D', 'O', 'O', 'O', 'D', 'O', 'O', 'D', 'O', 'O', 'O', 'O', 'D', 'O', 'O', 'O', 'D', 'O', 'O', 'D', 'O', 'O', 'O', 'O', 'O', 'D', 'O', 'O', 'O', 'O']\n"
          ]
        }
      ]
    },
    {
      "cell_type": "code",
      "metadata": {
        "id": "chLTt1VrIa2s",
        "colab": {
          "base_uri": "https://localhost:8080/"
        },
        "outputId": "4e3aacb4-9633-4b63-841e-9a06445aae2f"
      },
      "source": [
        "all_text = \" \".join([\" \".join(x[0][0]) for x in train_examples+test_examples])\n",
        "# print(all_text)\n",
        "vocab = sorted(set(all_text))\n",
        "# print(vocab)\n",
        "\n",
        "all_labels = \"\".join([\"\".join(x[0][1]) for x in train_examples+test_examples])\n",
        "labels = sorted(set(all_labels))\n",
        "    \n",
        "# create character/id and label/id mapping\n",
        "char2idx = {u:i+1 for i, u in enumerate(vocab)}\n",
        "idx2char = np.array(vocab)\n",
        "label2idx = {u:i+1 for i, u in enumerate(labels)}\n",
        "idx2label = np.array(labels)\n",
        "print(idx2label)\n",
        "print(char2idx)"
      ],
      "execution_count": null,
      "outputs": [
        {
          "output_type": "stream",
          "name": "stdout",
          "text": [
            "['D' 'O']\n",
            "{' ': 1, '0': 2, '1': 3, '2': 4, '3': 5, '4': 6, '5': 7, '6': 8, '8': 9, '9': 10, ':': 11, ';': 12, 'B': 13, 'D': 14, 'H': 15, 'J': 16, 'L': 17, 'U': 18, 'X': 19, 'a': 20, 'b': 21, 'c': 22, 'd': 23, 'e': 24, 'f': 25, 'g': 26, 'h': 27, 'i': 28, 'j': 29, 'k': 30, 'l': 31, 'm': 32, 'n': 33, 'o': 34, 'r': 35, 's': 36, 't': 37, 'u': 38, 'v': 39, 'w': 40, 'x': 41, 'y': 42}\n"
          ]
        }
      ]
    },
    {
      "cell_type": "code",
      "source": [
        "train_formatted = []\n",
        "test_formatted = []\n",
        "\n",
        "for el in train_examples:\n",
        "  train_formatted.append([[char2idx[x] for x in el[0][0]],np.array([label2idx[x] for x in el[0][1]])])\n",
        "\n",
        "for el in test_examples:\n",
        "  test_formatted.append([[char2idx[x] for x in el[0][0]],np.array([label2idx[x] for x in el[0][1]])])\n",
        "\n",
        "for el in train_formatted:\n",
        "  print(el)\n",
        "  break\n",
        "\n",
        "for el in test_formatted:\n",
        "  print(el)\n",
        "  break"
      ],
      "metadata": {
        "colab": {
          "base_uri": "https://localhost:8080/"
        },
        "id": "nvzZYOVrWAJu",
        "outputId": "9b50161e-fc50-4e65-bdb9-8062bc77005c"
      },
      "execution_count": null,
      "outputs": [
        {
          "output_type": "stream",
          "name": "stdout",
          "text": [
            "[[36, 40, 20, 42, 1, 42, 24, 36, 24, 36, 1, 37, 27, 20, 37, 1, 20, 32, 11, 25, 28, 39, 24, 11, 17, 34, 26, 1, 37, 35, 42, 1, 29, 20, 42, 1, 26, 28, 39, 24, 33, 1, 10, 2, 1, 36, 29, 23, 25, 36, 9, 5, 6], array([2, 2, 2, 2, 1, 2, 2, 2, 2, 2, 1, 2, 2, 2, 2, 1, 2, 2, 1, 2, 2, 2,\n",
            "       2, 1, 2, 2, 2, 1, 2, 2, 2, 1, 2, 2, 2, 1, 2, 2, 2, 2, 2, 1, 2, 2,\n",
            "       1, 2, 2, 2, 2, 2, 2, 2, 2])]\n",
            "[[29, 20, 42, 1, 36, 40, 20, 42, 1, 27, 28, 23, 24, 1, 29, 20, 42, 1, 37, 35, 42, 1, 20, 32, 1, 27, 28, 23, 24, 1, 29, 20, 42, 1, 5, 2, 12, 32, 28, 26, 27, 37, 1, 8, 6, 7, 5], array([2, 2, 2, 1, 2, 2, 2, 2, 1, 2, 2, 2, 2, 1, 2, 2, 2, 1, 2, 2, 2, 1,\n",
            "       2, 2, 1, 2, 2, 2, 2, 1, 2, 2, 2, 1, 2, 2, 1, 2, 2, 2, 2, 2, 1, 2,\n",
            "       2, 2, 2])]\n"
          ]
        }
      ]
    },
    {
      "cell_type": "code",
      "metadata": {
        "id": "LDRSAIObKBL8",
        "colab": {
          "base_uri": "https://localhost:8080/"
        },
        "outputId": "01338e46-74f9-47b9-8e7b-43114211cda9"
      },
      "source": [
        "valid_formatted = train_formatted.copy()\n",
        "\n",
        "for eg in train_formatted:\n",
        "  print(eg[0])\n",
        "  print(eg[1])\n",
        "  break\n",
        "\n",
        "# training generator\n",
        "def gen_train_series():\n",
        "    for eg in train_formatted:\n",
        "      yield eg[0],eg[1]\n",
        "\n",
        "# validation generator\n",
        "def gen_valid_series():\n",
        "    for eg in valid_formatted:\n",
        "      yield eg[0],eg[1]\n",
        "\n",
        "# test generator\n",
        "def gen_test_series():\n",
        "  for eg in test_formatted:\n",
        "      yield eg[0],eg[1]\n",
        "  \n",
        "# create Dataset objects for train, test and validation sets  \n",
        "series = tf.data.Dataset.from_generator(gen_train_series,output_types=(tf.int32, tf.int32),output_shapes = ((None, None)))\n",
        "series_valid = tf.data.Dataset.from_generator(gen_valid_series,output_types=(tf.int32, tf.int32),output_shapes = ((None, None)))\n",
        "series_test = tf.data.Dataset.from_generator(gen_test_series,output_types=(tf.int32, tf.int32),output_shapes = ((None, None)))\n",
        "\n",
        "BATCH_SIZE = 1\n",
        "BUFFER_SIZE=1000\n",
        "\n",
        "# create padded batch series objects for train, test and validation sets\n",
        "ds_series_batch = series.shuffle(BUFFER_SIZE).padded_batch(BATCH_SIZE, padded_shapes=([None], [None]), drop_remainder=True)\n",
        "ds_series_batch_valid = series_valid.padded_batch(BATCH_SIZE, padded_shapes=([None], [None]), drop_remainder=True)\n",
        "ds_series_batch_test = series_test.padded_batch(BATCH_SIZE, padded_shapes=([None], [None]), drop_remainder=True)\n",
        "\n",
        "# print example batches\n",
        "for input_example_batch, target_example_batch in ds_series_batch.take(1):\n",
        "  print(input_example_batch)\n",
        "  print(target_example_batch)"
      ],
      "execution_count": null,
      "outputs": [
        {
          "output_type": "stream",
          "name": "stdout",
          "text": [
            "[36, 40, 20, 42, 1, 42, 24, 36, 24, 36, 1, 37, 27, 20, 37, 1, 20, 32, 11, 25, 28, 39, 24, 11, 17, 34, 26, 1, 37, 35, 42, 1, 29, 20, 42, 1, 26, 28, 39, 24, 33, 1, 10, 2, 1, 36, 29, 23, 25, 36, 9, 5, 6]\n",
            "[2 2 2 2 1 2 2 2 2 2 1 2 2 2 2 1 2 2 1 2 2 2 2 1 2 2 2 1 2 2 2 1 2 2 2 1 2\n",
            " 2 2 2 2 1 2 2 1 2 2 2 2 2 2 2 2]\n",
            "tf.Tensor(\n",
            "[[25 28 39 24 12 37 35 38 24  1 42 24 36  1 33 34 36  1  4  5  6 10  1 22\n",
            "  31 20 42  1 27 28 23 24  1 20 32  1  3  4  5  6  1 26 28 39 24 33  1 28\n",
            "  36]], shape=(1, 49), dtype=int32)\n",
            "tf.Tensor(\n",
            "[[2 2 2 2 1 2 2 2 2 1 2 2 2 1 2 2 2 1 2 2 2 2 1 2 2 2 2 1 2 2 2 2 1 2 2 1\n",
            "  2 2 2 2 1 2 2 2 2 2 1 2 2]], shape=(1, 49), dtype=int32)\n"
          ]
        }
      ]
    },
    {
      "cell_type": "code",
      "metadata": {
        "id": "4msLXztSJtqo",
        "outputId": "394b1172-7bc9-4d14-aa1b-2b0499b9c644",
        "colab": {
          "base_uri": "https://localhost:8080/"
        }
      },
      "source": [
        "vocab_size = len(vocab)+1\n",
        "\n",
        "# The embedding dimension\n",
        "embedding_dim = 256\n",
        "\n",
        "# Number of RNN units\n",
        "rnn_units = 1024\n",
        "\n",
        "label_size = len(labels)  \n",
        "\n",
        "# build LSTM model\n",
        "def build_model(vocab_size,label_size, embedding_dim, rnn_units, batch_size):\n",
        "      model = tf.keras.Sequential([\n",
        "          tf.keras.layers.Embedding(vocab_size, embedding_dim,\n",
        "                            batch_input_shape=[batch_size, None],mask_zero=True),\n",
        "          tf.keras.layers.LSTM(rnn_units,\n",
        "                      return_sequences=True,\n",
        "                      stateful=True,\n",
        "                      recurrent_initializer='glorot_uniform'),\n",
        "          tf.keras.layers.Dense(label_size)\n",
        "          ])\n",
        "      return model\n",
        "\n",
        "model = build_model(\n",
        "      vocab_size = len(vocab)+1,\n",
        "      label_size=len(labels)+1,\n",
        "      embedding_dim=embedding_dim,\n",
        "      rnn_units=rnn_units,\n",
        "      batch_size=BATCH_SIZE)\n",
        "\n",
        "model.summary()"
      ],
      "execution_count": null,
      "outputs": [
        {
          "output_type": "stream",
          "name": "stdout",
          "text": [
            "Model: \"sequential_2\"\n",
            "_________________________________________________________________\n",
            " Layer (type)                Output Shape              Param #   \n",
            "=================================================================\n",
            " embedding_2 (Embedding)     (1, None, 256)            11008     \n",
            "                                                                 \n",
            " lstm_2 (LSTM)               (1, None, 1024)           5246976   \n",
            "                                                                 \n",
            " dense_2 (Dense)             (1, None, 3)              3075      \n",
            "                                                                 \n",
            "=================================================================\n",
            "Total params: 5,261,059\n",
            "Trainable params: 5,261,059\n",
            "Non-trainable params: 0\n",
            "_________________________________________________________________\n"
          ]
        }
      ]
    },
    {
      "cell_type": "code",
      "metadata": {
        "id": "S1vnxVFcK1Hk"
      },
      "source": [
        "import os\n",
        "\n",
        "# define loss function\n",
        "def loss(labels, logits):\n",
        "    return tf.keras.losses.sparse_categorical_crossentropy(labels, logits, from_logits=True)\n",
        "\n",
        "model.compile(optimizer='adam', loss=loss,metrics=[tf.keras.metrics.SparseCategoricalAccuracy()])\n",
        "\n",
        "# Directory where the checkpoints will be saved\n",
        "checkpoint_dir = './training_checkpoints'\n",
        "# Name of the checkpoint files\n",
        "checkpoint_prefix = os.path.join(checkpoint_dir, \"ckpt_{epoch}\")\n",
        "\n",
        "checkpoint_callback=tf.keras.callbacks.ModelCheckpoint(\n",
        "    filepath=checkpoint_prefix,\n",
        "    save_weights_only=True)"
      ],
      "execution_count": null,
      "outputs": []
    },
    {
      "cell_type": "code",
      "metadata": {
        "id": "2CQ2I9UDK9ng",
        "outputId": "1570669e-7c89-421f-df41-e5b2b26dcd5c",
        "colab": {
          "base_uri": "https://localhost:8080/"
        }
      },
      "source": [
        "EPOCHS=2\n",
        "\n",
        "history = model.fit(ds_series_batch, epochs=EPOCHS, validation_data=ds_series_batch_valid,callbacks=[checkpoint_callback])"
      ],
      "execution_count": null,
      "outputs": [
        {
          "output_type": "stream",
          "name": "stdout",
          "text": [
            "Epoch 1/2\n",
            "2559/2559 [==============================] - 68s 25ms/step - loss: 0.0065 - sparse_categorical_accuracy: 0.9973 - val_loss: 1.2535e-06 - val_sparse_categorical_accuracy: 1.0000\n",
            "Epoch 2/2\n",
            "2559/2559 [==============================] - 64s 25ms/step - loss: 5.6644e-07 - sparse_categorical_accuracy: 1.0000 - val_loss: 2.2188e-07 - val_sparse_categorical_accuracy: 1.0000\n"
          ]
        }
      ]
    },
    {
      "cell_type": "code",
      "metadata": {
        "id": "gvTLV_8SgTlm",
        "outputId": "5c18a353-048b-4f73-b5c3-2b76d96b865c",
        "colab": {
          "base_uri": "https://localhost:8080/"
        }
      },
      "source": [
        "from sklearn.metrics import classification_report, confusion_matrix\n",
        "\n",
        "preds = np.array([])\n",
        "y_trues= np.array([])\n",
        "\n",
        "# iterate through test set, make predictions based on trained model\n",
        "for input_example_batch, target_example_batch in ds_series_batch_test:\n",
        "  pred=model.predict(input_example_batch, batch_size=1)\n",
        "  pred_max=tf.argmax(tf.nn.softmax(pred),2).numpy().flatten()\n",
        "  y_true=target_example_batch.numpy().flatten()\n",
        "  print(input_example_batch)\n",
        "  print(pred_max)\n",
        "  preds=np.concatenate([preds,pred_max])\n",
        "  y_trues=np.concatenate([y_trues,y_true])\n",
        "  print(y_trues)\n",
        "  break\n",
        "\n",
        "# remove padding from evaluation\n",
        "remove_padding = [(p,y) for p,y in zip(preds,y_trues) if y!=0]\n",
        "\n",
        "r_p = [x[0] for x in remove_padding]\n",
        "r_t = [x[1] for x in remove_padding]\n",
        "\n",
        "# print confusion matrix and classification report\n",
        "print(confusion_matrix(r_p,r_t))\n",
        "print(classification_report(r_p,r_t))\n"
      ],
      "execution_count": null,
      "outputs": [
        {
          "output_type": "stream",
          "name": "stdout",
          "text": [
            "1/1 [==============================] - 0s 20ms/step\n",
            "tf.Tensor(\n",
            "[[29 20 42  1 36 40 20 42  1 27 28 23 24  1 29 20 42  1 37 35 42  1 20 32\n",
            "   1 27 28 23 24  1 29 20 42  1  5  2 12 32 28 26 27 37  1  8  6  7  5]], shape=(1, 47), dtype=int32)\n",
            "[2 2 2 1 2 2 2 2 1 2 2 2 2 1 2 2 2 1 2 2 2 1 2 2 1 2 2 2 2 1 2 2 2 1 2 2 1\n",
            " 2 2 2 2 2 1 2 2 2 2]\n",
            "[2. 2. 2. 1. 2. 2. 2. 2. 1. 2. 2. 2. 2. 1. 2. 2. 2. 1. 2. 2. 2. 1. 2. 2.\n",
            " 1. 2. 2. 2. 2. 1. 2. 2. 2. 1. 2. 2. 1. 2. 2. 2. 2. 2. 1. 2. 2. 2. 2.]\n",
            "[[10  0]\n",
            " [ 0 37]]\n",
            "              precision    recall  f1-score   support\n",
            "\n",
            "         1.0       1.00      1.00      1.00        10\n",
            "         2.0       1.00      1.00      1.00        37\n",
            "\n",
            "    accuracy                           1.00        47\n",
            "   macro avg       1.00      1.00      1.00        47\n",
            "weighted avg       1.00      1.00      1.00        47\n",
            "\n"
          ]
        }
      ]
    },
    {
      "cell_type": "code",
      "source": [
        "a = 0\n",
        "\n",
        "for input_example_batch, target_example_batch in ds_series_batch_test:\n",
        "  pred = model.predict(input_example_batch, batch_size=1)\n",
        "  pred_max=tf.argmax(tf.nn.softmax(pred),2).numpy().flatten()\n",
        "  # p = np.argmax(p, axis=-1)\n",
        "  print(\"{:14} ({:5}): {}\".format(\"Word\", \"True\", \"Pred\"))\n",
        "  print(input_example_batch)\n",
        "  print(pred_max)\n",
        "  # for w,pred in zip(input_example_batch,p[0]):\n",
        "  #   print(\"{:14}: {}\".format(words[w],tags[pred]))\n",
        "  # print()\n",
        "\n",
        "  print([idx2char[x-1] for x in input_example_batch.numpy()[0]])\n",
        "  print([idx2label[x-1] for x in target_example_batch.numpy()[0]])\n",
        "  print([idx2label[x-1] for x in pred_max])\n",
        "  # print([,np.array([label2idx[x] for x in pred_max.numpy()[0]])])\n",
        "  a += 1\n",
        "  if a == 10:\n",
        "    break\n",
        "# for i in range(10):\n",
        "#   print(X_test[i])\n",
        "#   p = model.predict(np.array([X_test[i]]))\n",
        "#   p = np.argmax(p, axis=-1)\n",
        "#   print(\"{:14} ({:5}): {}\".format(\"Word\", \"True\", \"Pred\"))\n",
        "#   for w,pred in zip(X_test[i],p[0]):\n",
        "#       print(\"{:14}: {}\".format(words[w],tags[pred]))\n",
        "#   print()"
      ],
      "metadata": {
        "colab": {
          "base_uri": "https://localhost:8080/"
        },
        "id": "CKFW3zpiXsMi",
        "outputId": "138ca6e4-88da-4672-c717-bd7902d9f6d5"
      },
      "execution_count": null,
      "outputs": [
        {
          "output_type": "stream",
          "name": "stdout",
          "text": [
            "1/1 [==============================] - 0s 18ms/step\n",
            "Word           (True ): Pred\n",
            "tf.Tensor(\n",
            "[[29 20 42  1 36 40 20 42  1 27 28 23 24  1 29 20 42  1 37 35 42  1 20 32\n",
            "   1 27 28 23 24  1 29 20 42  1  5  2 12 32 28 26 27 37  1  8  6  7  5]], shape=(1, 47), dtype=int32)\n",
            "[2 2 2 1 2 2 2 2 1 2 2 2 2 1 2 2 2 1 2 2 2 1 2 2 1 2 2 2 2 1 2 2 2 1 2 2 1\n",
            " 2 2 2 2 2 1 2 2 2 2]\n",
            "['j', 'a', 'y', ' ', 's', 'w', 'a', 'y', ' ', 'h', 'i', 'd', 'e', ' ', 'j', 'a', 'y', ' ', 't', 'r', 'y', ' ', 'a', 'm', ' ', 'h', 'i', 'd', 'e', ' ', 'j', 'a', 'y', ' ', '3', '0', ';', 'm', 'i', 'g', 'h', 't', ' ', '6', '4', '5', '3']\n",
            "['O', 'O', 'O', 'D', 'O', 'O', 'O', 'O', 'D', 'O', 'O', 'O', 'O', 'D', 'O', 'O', 'O', 'D', 'O', 'O', 'O', 'D', 'O', 'O', 'D', 'O', 'O', 'O', 'O', 'D', 'O', 'O', 'O', 'D', 'O', 'O', 'D', 'O', 'O', 'O', 'O', 'O', 'D', 'O', 'O', 'O', 'O']\n",
            "['O', 'O', 'O', 'D', 'O', 'O', 'O', 'O', 'D', 'O', 'O', 'O', 'O', 'D', 'O', 'O', 'O', 'D', 'O', 'O', 'O', 'D', 'O', 'O', 'D', 'O', 'O', 'O', 'O', 'D', 'O', 'O', 'O', 'D', 'O', 'O', 'D', 'O', 'O', 'O', 'O', 'O', 'D', 'O', 'O', 'O', 'O']\n",
            "1/1 [==============================] - 0s 22ms/step\n",
            "Word           (True ): Pred\n",
            "tf.Tensor(\n",
            "[[29 36 23 25 18  4  9  5  1 27 28 23 24  1 22 31 20 42  1 20 32  1 26 28\n",
            "  39 24 33  1 13 36 29 23  5  9  6  1 33 34 36  1 25 28 39 24  1 37 27 20\n",
            "  37  1 37 35 42  1 26 28 39 24 33]], shape=(1, 59), dtype=int32)\n",
            "[2 2 2 2 2 2 2 2 1 2 2 2 2 1 2 2 2 2 1 2 2 1 2 2 2 2 2 1 2 2 2 2 2 2 2 1 2\n",
            " 2 2 1 2 2 2 2 1 2 2 2 2 1 2 2 2 1 2 2 2 2 2]\n",
            "['j', 's', 'd', 'f', 'U', '2', '8', '3', ' ', 'h', 'i', 'd', 'e', ' ', 'c', 'l', 'a', 'y', ' ', 'a', 'm', ' ', 'g', 'i', 'v', 'e', 'n', ' ', 'B', 's', 'j', 'd', '3', '8', '4', ' ', 'n', 'o', 's', ' ', 'f', 'i', 'v', 'e', ' ', 't', 'h', 'a', 't', ' ', 't', 'r', 'y', ' ', 'g', 'i', 'v', 'e', 'n']\n",
            "['O', 'O', 'O', 'O', 'O', 'O', 'O', 'O', 'D', 'O', 'O', 'O', 'O', 'D', 'O', 'O', 'O', 'O', 'D', 'O', 'O', 'D', 'O', 'O', 'O', 'O', 'O', 'D', 'O', 'O', 'O', 'O', 'O', 'O', 'O', 'D', 'O', 'O', 'O', 'D', 'O', 'O', 'O', 'O', 'D', 'O', 'O', 'O', 'O', 'D', 'O', 'O', 'O', 'D', 'O', 'O', 'O', 'O', 'O']\n",
            "['O', 'O', 'O', 'O', 'O', 'O', 'O', 'O', 'D', 'O', 'O', 'O', 'O', 'D', 'O', 'O', 'O', 'O', 'D', 'O', 'O', 'D', 'O', 'O', 'O', 'O', 'O', 'D', 'O', 'O', 'O', 'O', 'O', 'O', 'O', 'D', 'O', 'O', 'O', 'D', 'O', 'O', 'O', 'O', 'D', 'O', 'O', 'O', 'O', 'D', 'O', 'O', 'O', 'D', 'O', 'O', 'O', 'O', 'O']\n",
            "1/1 [==============================] - 0s 20ms/step\n",
            "Word           (True ): Pred\n",
            "tf.Tensor(\n",
            "[[20 32  1 37 38 32 34 31  1 37 35 38 24 12  5 10  1 36 23 29 33 25  6  9\n",
            "   4  1 32 28 26 27 37  1 22 31 20 42  1 32 28 26 27 37  1 36 40 20 42  1\n",
            "  29 20 42  1 17 34 26]], shape=(1, 55), dtype=int32)\n",
            "[2 2 1 2 2 2 2 2 1 2 2 2 2 1 2 2 1 2 2 2 2 2 2 2 2 1 2 2 2 2 2 1 2 2 2 2 1\n",
            " 2 2 2 2 2 1 2 2 2 2 1 2 2 2 1 2 2 2]\n",
            "['a', 'm', ' ', 't', 'u', 'm', 'o', 'l', ' ', 't', 'r', 'u', 'e', ';', '3', '9', ' ', 's', 'd', 'j', 'n', 'f', '4', '8', '2', ' ', 'm', 'i', 'g', 'h', 't', ' ', 'c', 'l', 'a', 'y', ' ', 'm', 'i', 'g', 'h', 't', ' ', 's', 'w', 'a', 'y', ' ', 'j', 'a', 'y', ' ', 'L', 'o', 'g']\n",
            "['O', 'O', 'D', 'O', 'O', 'O', 'O', 'O', 'D', 'O', 'O', 'O', 'O', 'D', 'O', 'O', 'D', 'O', 'O', 'O', 'O', 'O', 'O', 'O', 'O', 'D', 'O', 'O', 'O', 'O', 'O', 'D', 'O', 'O', 'O', 'O', 'D', 'O', 'O', 'O', 'O', 'O', 'D', 'O', 'O', 'O', 'O', 'D', 'O', 'O', 'O', 'D', 'O', 'O', 'O']\n",
            "['O', 'O', 'D', 'O', 'O', 'O', 'O', 'O', 'D', 'O', 'O', 'O', 'O', 'D', 'O', 'O', 'D', 'O', 'O', 'O', 'O', 'O', 'O', 'O', 'O', 'D', 'O', 'O', 'O', 'O', 'O', 'D', 'O', 'O', 'O', 'O', 'D', 'O', 'O', 'O', 'O', 'O', 'D', 'O', 'O', 'O', 'O', 'D', 'O', 'O', 'O', 'D', 'O', 'O', 'O']\n",
            "1/1 [==============================] - 0s 23ms/step\n",
            "Word           (True ): Pred\n",
            "tf.Tensor(\n",
            "[[ 4  5  6  4  1 17 34 26 11 36 40 20 42  1  4  5  1 33 34 36 12 22 31 24\n",
            "  20 35 11 22 31 24 20 35  1 37 35 42  1  3  4  5  6  1 42 24 36 24 36  1\n",
            "  37 27 20 37]], shape=(1, 52), dtype=int32)\n",
            "[2 2 2 2 1 2 2 2 1 2 2 2 2 1 2 2 1 2 2 2 1 2 2 2 2 2 1 2 2 2 2 2 1 2 2 2 1\n",
            " 2 2 2 2 1 2 2 2 2 2 1 2 2 2 2]\n",
            "['2', '3', '4', '2', ' ', 'L', 'o', 'g', ':', 's', 'w', 'a', 'y', ' ', '2', '3', ' ', 'n', 'o', 's', ';', 'c', 'l', 'e', 'a', 'r', ':', 'c', 'l', 'e', 'a', 'r', ' ', 't', 'r', 'y', ' ', '1', '2', '3', '4', ' ', 'y', 'e', 's', 'e', 's', ' ', 't', 'h', 'a', 't']\n",
            "['O', 'O', 'O', 'O', 'D', 'O', 'O', 'O', 'D', 'O', 'O', 'O', 'O', 'D', 'O', 'O', 'D', 'O', 'O', 'O', 'D', 'O', 'O', 'O', 'O', 'O', 'D', 'O', 'O', 'O', 'O', 'O', 'D', 'O', 'O', 'O', 'D', 'O', 'O', 'O', 'O', 'D', 'O', 'O', 'O', 'O', 'O', 'D', 'O', 'O', 'O', 'O']\n",
            "['O', 'O', 'O', 'O', 'D', 'O', 'O', 'O', 'D', 'O', 'O', 'O', 'O', 'D', 'O', 'O', 'D', 'O', 'O', 'O', 'D', 'O', 'O', 'O', 'O', 'O', 'D', 'O', 'O', 'O', 'O', 'O', 'D', 'O', 'O', 'O', 'D', 'O', 'O', 'O', 'O', 'D', 'O', 'O', 'O', 'O', 'O', 'D', 'O', 'O', 'O', 'O']\n",
            "1/1 [==============================] - 0s 24ms/step\n",
            "Word           (True ): Pred\n",
            "tf.Tensor(\n",
            "[[27 28 23 24  1 33 20 42  1 33 34 36  1 28 36  1 37 27 20 37  1  6  7  8\n",
            "   6  1 29 36 29 23 25 10  5 20 42 12 33 34  1 22 31 20 42 12  8  6  7  5\n",
            "   1 37 35 38 24]], shape=(1, 53), dtype=int32)\n",
            "[2 2 2 2 1 2 2 2 1 2 2 2 1 2 2 1 2 2 2 2 1 2 2 2 2 1 2 2 2 2 2 2 2 2 2 1 2\n",
            " 2 1 2 2 2 2 1 2 2 2 2 1 2 2 2 2]\n",
            "['h', 'i', 'd', 'e', ' ', 'n', 'a', 'y', ' ', 'n', 'o', 's', ' ', 'i', 's', ' ', 't', 'h', 'a', 't', ' ', '4', '5', '6', '4', ' ', 'j', 's', 'j', 'd', 'f', '9', '3', 'a', 'y', ';', 'n', 'o', ' ', 'c', 'l', 'a', 'y', ';', '6', '4', '5', '3', ' ', 't', 'r', 'u', 'e']\n",
            "['O', 'O', 'O', 'O', 'D', 'O', 'O', 'O', 'D', 'O', 'O', 'O', 'D', 'O', 'O', 'D', 'O', 'O', 'O', 'O', 'D', 'O', 'O', 'O', 'O', 'D', 'O', 'O', 'O', 'O', 'O', 'O', 'O', 'O', 'O', 'D', 'O', 'O', 'D', 'O', 'O', 'O', 'O', 'D', 'O', 'O', 'O', 'O', 'D', 'O', 'O', 'O', 'O']\n",
            "['O', 'O', 'O', 'O', 'D', 'O', 'O', 'O', 'D', 'O', 'O', 'O', 'D', 'O', 'O', 'D', 'O', 'O', 'O', 'O', 'D', 'O', 'O', 'O', 'O', 'D', 'O', 'O', 'O', 'O', 'O', 'O', 'O', 'O', 'O', 'D', 'O', 'O', 'D', 'O', 'O', 'O', 'O', 'D', 'O', 'O', 'O', 'O', 'D', 'O', 'O', 'O', 'O']\n",
            "1/1 [==============================] - 0s 24ms/step\n",
            "Word           (True ): Pred\n",
            "tf.Tensor(\n",
            "[[33 34 36  1 42 24 36 24 36  1 37 27 20 37  1 27 28 26 27  1 29 36 33 23\n",
            "   5  9  6 21 36 23  1 37 35 42  1 28 36  1 33 34 36  1 42 24 36 24 36  1\n",
            "  26 28 39 24 33  1 17 34 26]], shape=(1, 57), dtype=int32)\n",
            "[2 2 2 1 2 2 2 2 2 1 2 2 2 2 1 2 2 2 2 1 2 2 2 2 2 2 2 2 2 2 1 2 2 2 1 2 2\n",
            " 1 2 2 2 1 2 2 2 2 2 1 2 2 2 2 2 1 2 2 2]\n",
            "['n', 'o', 's', ' ', 'y', 'e', 's', 'e', 's', ' ', 't', 'h', 'a', 't', ' ', 'h', 'i', 'g', 'h', ' ', 'j', 's', 'n', 'd', '3', '8', '4', 'b', 's', 'd', ' ', 't', 'r', 'y', ' ', 'i', 's', ' ', 'n', 'o', 's', ' ', 'y', 'e', 's', 'e', 's', ' ', 'g', 'i', 'v', 'e', 'n', ' ', 'L', 'o', 'g']\n",
            "['O', 'O', 'O', 'D', 'O', 'O', 'O', 'O', 'O', 'D', 'O', 'O', 'O', 'O', 'D', 'O', 'O', 'O', 'O', 'D', 'O', 'O', 'O', 'O', 'O', 'O', 'O', 'O', 'O', 'O', 'D', 'O', 'O', 'O', 'D', 'O', 'O', 'D', 'O', 'O', 'O', 'D', 'O', 'O', 'O', 'O', 'O', 'D', 'O', 'O', 'O', 'O', 'O', 'D', 'O', 'O', 'O']\n",
            "['O', 'O', 'O', 'D', 'O', 'O', 'O', 'O', 'O', 'D', 'O', 'O', 'O', 'O', 'D', 'O', 'O', 'O', 'O', 'D', 'O', 'O', 'O', 'O', 'O', 'O', 'O', 'O', 'O', 'O', 'D', 'O', 'O', 'O', 'D', 'O', 'O', 'D', 'O', 'O', 'O', 'D', 'O', 'O', 'O', 'O', 'O', 'D', 'O', 'O', 'O', 'O', 'O', 'D', 'O', 'O', 'O']\n",
            "1/1 [==============================] - 0s 21ms/step\n",
            "Word           (True ): Pred\n",
            "tf.Tensor(\n",
            "[[32 20 22 27 28 33 24  1 22 31 24 20 35  1  4  5  6  4  1 25 28 39 24  1\n",
            "  33 20 42 11 10  2  1 37 35 38 24  1 33 23 14 15 21 41  9 10  5  1 25 28\n",
            "  39 24  1 37 38 32 34 31  1 17 34 26]], shape=(1, 60), dtype=int32)\n",
            "[2 2 2 2 2 2 2 1 2 2 2 2 2 1 2 2 2 2 1 2 2 2 2 1 2 2 2 1 2 2 1 2 2 2 2 1 2\n",
            " 2 2 2 2 2 2 2 2 1 2 2 2 2 1 2 2 2 2 2 1 2 2 2]\n",
            "['m', 'a', 'c', 'h', 'i', 'n', 'e', ' ', 'c', 'l', 'e', 'a', 'r', ' ', '2', '3', '4', '2', ' ', 'f', 'i', 'v', 'e', ' ', 'n', 'a', 'y', ':', '9', '0', ' ', 't', 'r', 'u', 'e', ' ', 'n', 'd', 'D', 'H', 'b', 'x', '8', '9', '3', ' ', 'f', 'i', 'v', 'e', ' ', 't', 'u', 'm', 'o', 'l', ' ', 'L', 'o', 'g']\n",
            "['O', 'O', 'O', 'O', 'O', 'O', 'O', 'D', 'O', 'O', 'O', 'O', 'O', 'D', 'O', 'O', 'O', 'O', 'D', 'O', 'O', 'O', 'O', 'D', 'O', 'O', 'O', 'D', 'O', 'O', 'D', 'O', 'O', 'O', 'O', 'D', 'O', 'O', 'O', 'O', 'O', 'O', 'O', 'O', 'O', 'D', 'O', 'O', 'O', 'O', 'D', 'O', 'O', 'O', 'O', 'O', 'D', 'O', 'O', 'O']\n",
            "['O', 'O', 'O', 'O', 'O', 'O', 'O', 'D', 'O', 'O', 'O', 'O', 'O', 'D', 'O', 'O', 'O', 'O', 'D', 'O', 'O', 'O', 'O', 'D', 'O', 'O', 'O', 'D', 'O', 'O', 'D', 'O', 'O', 'O', 'O', 'D', 'O', 'O', 'O', 'O', 'O', 'O', 'O', 'O', 'O', 'D', 'O', 'O', 'O', 'O', 'D', 'O', 'O', 'O', 'O', 'O', 'D', 'O', 'O', 'O']\n",
            "1/1 [==============================] - 0s 21ms/step\n",
            "Word           (True ): Pred\n",
            "tf.Tensor(\n",
            "[[42 24 36  1  3  4  5  6  1 17 34 26  1 17 34 26  1 29 20 42  1 32 20 22\n",
            "  27 28 33 24  1 17 34 26  1 37 38 32 34 31  1 33 20 42  1  4  5  6  4  1\n",
            "   8  6  7  5]], shape=(1, 52), dtype=int32)\n",
            "[2 2 2 1 2 2 2 2 1 2 2 2 1 2 2 2 1 2 2 2 1 2 2 2 2 2 2 2 1 2 2 2 1 2 2 2 2\n",
            " 2 1 2 2 2 1 2 2 2 2 1 2 2 2 2]\n",
            "['y', 'e', 's', ' ', '1', '2', '3', '4', ' ', 'L', 'o', 'g', ' ', 'L', 'o', 'g', ' ', 'j', 'a', 'y', ' ', 'm', 'a', 'c', 'h', 'i', 'n', 'e', ' ', 'L', 'o', 'g', ' ', 't', 'u', 'm', 'o', 'l', ' ', 'n', 'a', 'y', ' ', '2', '3', '4', '2', ' ', '6', '4', '5', '3']\n",
            "['O', 'O', 'O', 'D', 'O', 'O', 'O', 'O', 'D', 'O', 'O', 'O', 'D', 'O', 'O', 'O', 'D', 'O', 'O', 'O', 'D', 'O', 'O', 'O', 'O', 'O', 'O', 'O', 'D', 'O', 'O', 'O', 'D', 'O', 'O', 'O', 'O', 'O', 'D', 'O', 'O', 'O', 'D', 'O', 'O', 'O', 'O', 'D', 'O', 'O', 'O', 'O']\n",
            "['O', 'O', 'O', 'D', 'O', 'O', 'O', 'O', 'D', 'O', 'O', 'O', 'D', 'O', 'O', 'O', 'D', 'O', 'O', 'O', 'D', 'O', 'O', 'O', 'O', 'O', 'O', 'O', 'D', 'O', 'O', 'O', 'D', 'O', 'O', 'O', 'O', 'O', 'D', 'O', 'O', 'O', 'D', 'O', 'O', 'O', 'O', 'D', 'O', 'O', 'O', 'O']\n",
            "1/1 [==============================] - 0s 21ms/step\n",
            "Word           (True ): Pred\n",
            "tf.Tensor(\n",
            "[[37 38 32 34 31  1 27 28 26 27  1 36 23 29 33 25  6  9  4  1 32 20 22 27\n",
            "  28 33 24 12 26 28 39 24 33  1 42 24 36 24 36  1 28 36 11 26 28 39 24 33\n",
            "   1 33 20 42  1 36 29 23 25 36  9  5  6  1  5  2]], shape=(1, 64), dtype=int32)\n",
            "[2 2 2 2 2 1 2 2 2 2 1 2 2 2 2 2 2 2 2 1 2 2 2 2 2 2 2 1 2 2 2 2 2 1 2 2 2\n",
            " 2 2 1 2 2 1 2 2 2 2 2 1 2 2 2 1 2 2 2 2 2 2 2 2 1 2 2]\n",
            "['t', 'u', 'm', 'o', 'l', ' ', 'h', 'i', 'g', 'h', ' ', 's', 'd', 'j', 'n', 'f', '4', '8', '2', ' ', 'm', 'a', 'c', 'h', 'i', 'n', 'e', ';', 'g', 'i', 'v', 'e', 'n', ' ', 'y', 'e', 's', 'e', 's', ' ', 'i', 's', ':', 'g', 'i', 'v', 'e', 'n', ' ', 'n', 'a', 'y', ' ', 's', 'j', 'd', 'f', 's', '8', '3', '4', ' ', '3', '0']\n",
            "['O', 'O', 'O', 'O', 'O', 'D', 'O', 'O', 'O', 'O', 'D', 'O', 'O', 'O', 'O', 'O', 'O', 'O', 'O', 'D', 'O', 'O', 'O', 'O', 'O', 'O', 'O', 'D', 'O', 'O', 'O', 'O', 'O', 'D', 'O', 'O', 'O', 'O', 'O', 'D', 'O', 'O', 'D', 'O', 'O', 'O', 'O', 'O', 'D', 'O', 'O', 'O', 'D', 'O', 'O', 'O', 'O', 'O', 'O', 'O', 'O', 'D', 'O', 'O']\n",
            "['O', 'O', 'O', 'O', 'O', 'D', 'O', 'O', 'O', 'O', 'D', 'O', 'O', 'O', 'O', 'O', 'O', 'O', 'O', 'D', 'O', 'O', 'O', 'O', 'O', 'O', 'O', 'D', 'O', 'O', 'O', 'O', 'O', 'D', 'O', 'O', 'O', 'O', 'O', 'D', 'O', 'O', 'D', 'O', 'O', 'O', 'O', 'O', 'D', 'O', 'O', 'O', 'D', 'O', 'O', 'O', 'O', 'O', 'O', 'O', 'O', 'D', 'O', 'O']\n",
            "1/1 [==============================] - 0s 19ms/step\n",
            "Word           (True ): Pred\n",
            "tf.Tensor(\n",
            "[[32 28 26 27 37  1 29 20 42  1 22 31 24 20 35  1 33 34 36 12 33 20 42  1\n",
            "  33 34 36  1 37 38 32 34 31  1  4  5  1 37 35 42  1 33 23 14 15 21 41  9\n",
            "  10  5  1 32 28 26 27 37]], shape=(1, 56), dtype=int32)\n",
            "[2 2 2 2 2 1 2 2 2 1 2 2 2 2 2 1 2 2 2 1 2 2 2 1 2 2 2 1 2 2 2 2 2 1 2 2 1\n",
            " 2 2 2 1 2 2 2 2 2 2 2 2 2 1 2 2 2 2 2]\n",
            "['m', 'i', 'g', 'h', 't', ' ', 'j', 'a', 'y', ' ', 'c', 'l', 'e', 'a', 'r', ' ', 'n', 'o', 's', ';', 'n', 'a', 'y', ' ', 'n', 'o', 's', ' ', 't', 'u', 'm', 'o', 'l', ' ', '2', '3', ' ', 't', 'r', 'y', ' ', 'n', 'd', 'D', 'H', 'b', 'x', '8', '9', '3', ' ', 'm', 'i', 'g', 'h', 't']\n",
            "['O', 'O', 'O', 'O', 'O', 'D', 'O', 'O', 'O', 'D', 'O', 'O', 'O', 'O', 'O', 'D', 'O', 'O', 'O', 'D', 'O', 'O', 'O', 'D', 'O', 'O', 'O', 'D', 'O', 'O', 'O', 'O', 'O', 'D', 'O', 'O', 'D', 'O', 'O', 'O', 'D', 'O', 'O', 'O', 'O', 'O', 'O', 'O', 'O', 'O', 'D', 'O', 'O', 'O', 'O', 'O']\n",
            "['O', 'O', 'O', 'O', 'O', 'D', 'O', 'O', 'O', 'D', 'O', 'O', 'O', 'O', 'O', 'D', 'O', 'O', 'O', 'D', 'O', 'O', 'O', 'D', 'O', 'O', 'O', 'D', 'O', 'O', 'O', 'O', 'O', 'D', 'O', 'O', 'D', 'O', 'O', 'O', 'D', 'O', 'O', 'O', 'O', 'O', 'O', 'O', 'O', 'O', 'D', 'O', 'O', 'O', 'O', 'O']\n"
          ]
        }
      ]
    },
    {
      "cell_type": "code",
      "source": [
        "# training generator\n",
        "\n",
        "train_for = []\n",
        "\n",
        "train_for.append([[29, 20, 42, 1, 36, 40, 20, 42, 1, 27, 28, 23, 24, 1, 29, 20, 42, 1, 37, 35, 42, 1, 20, 32, 1, 27, 28, 23, 24, 1, 29, 20, 42, 1, 5, 2, 12, 32, 28, 26, 27, 37, 1, 8, 6, 7, 5,29, 20, 42, 1, 36, 40, 20, 42, 1, 27, 28, 23, 24, 1, 29, 20, 42, 1, 37, 35, 42, 1, 20, 32, 1, 27, 28, 23, 24, 1, 29, 20, 42, 1, 5, 2, 12, 32, 28, 26, 27, 37, 1, 8, 6, 7, 5,29, 20, 42, 1, 36, 40, 20, 42, 1, 27, 28, 23, 24, 1, 29, 20, 42, 1, 37, 35, 42, 1, 20, 32, 1, 27, 28, 23, 24, 1, 29, 20, 42, 1, 5, 2, 12, 32, 28, 26, 27, 37, 1, 8, 6, 7, 5,29, 20, 42, 1, 36, 40, 20, 42, 1, 27, 28, 23, 24, 1, 29, 20, 42, 1, 37, 35, 42, 1, 20, 32, 1, 27, 28, 23, 24, 1, 29, 20, 42, 1, 5, 2, 12, 32, 28, 26, 27, 37, 1, 8, 6, 7, 5,29, 20, 42, 1, 36, 40, 20, 42, 1, 27, 28, 23, 24, 1, 29, 20, 42, 1, 37, 35, 42, 1, 20, 32, 1, 27, 28, 23, 24, 1, 29, 20, 42, 1, 5, 2, 12, 32, 28, 26, 27, 37, 1, 8, 6, 7, 5,29, 20, 42, 1, 36, 40, 20, 42, 1, 27, 28, 23, 24, 1, 29, 20, 42, 1, 37, 35, 42, 1, 20, 32, 1, 27, 28, 23, 24, 1, 29, 20, 42, 1, 5, 2, 12, 32, 28, 26, 27, 37, 1, 8, 6, 7, 5,29, 20, 42, 1, 36, 40, 20, 42, 1, 27, 28, 23, 24, 1, 29, 20, 42, 1, 37, 35, 42, 1, 20, 32, 1, 27, 28, 23, 24, 1, 29, 20, 42, 1, 5, 2, 12, 32, 28, 26, 27, 37, 1, 8, 6, 7, 5,29, 20, 42, 1, 36, 40, 20, 42, 1, 27, 28, 23, 24, 1, 29, 20, 42, 1, 37, 35, 42, 1, 20, 32, 1, 27, 28, 23, 24, 1, 29, 20, 42, 1, 5, 2, 12, 32, 28, 26, 27, 37, 1, 8, 6, 7, 5,29, 20, 42, 1, 36, 40, 20, 42, 1, 27, 28, 23, 24, 1, 29, 20, 42, 1, 37, 35, 42, 1, 20, 32, 1, 27, 28, 23, 24, 1, 29, 20, 42, 1, 5, 2, 12, 32, 28, 26, 27, 37, 1, 8, 6, 7, 5], np.array([2, 2, 2, 1, 2, 2, 2, 2, 1, 2, 2, 2, 2, 1, 2, 2, 2, 1, 2, 2, 2, 1,\n",
        "       2, 2, 1, 2, 2, 2, 2, 1, 2, 2, 2, 1, 2, 2, 1, 2, 2, 2, 2, 2, 1, 2,\n",
        "       2, 2, 2,2, 2, 2, 1, 2, 2, 2, 2, 1, 2, 2, 2, 2, 1, 2, 2, 2, 1, 2, 2, 2, 1,\n",
        "       2, 2, 1, 2, 2, 2, 2, 1, 2, 2, 2, 1, 2, 2, 1, 2, 2, 2, 2, 2, 1, 2,\n",
        "       2, 2, 2,2, 2, 2, 1, 2, 2, 2, 2, 1, 2, 2, 2, 2, 1, 2, 2, 2, 1, 2, 2, 2, 1,\n",
        "       2, 2, 1, 2, 2, 2, 2, 1, 2, 2, 2, 1, 2, 2, 1, 2, 2, 2, 2, 2, 1, 2,\n",
        "       2, 2, 2,2, 2, 2, 1, 2, 2, 2, 2, 1, 2, 2, 2, 2, 1, 2, 2, 2, 1, 2, 2, 2, 1,\n",
        "       2, 2, 1, 2, 2, 2, 2, 1, 2, 2, 2, 1, 2, 2, 1, 2, 2, 2, 2, 2, 1, 2,\n",
        "       2, 2, 2,2, 2, 2, 1, 2, 2, 2, 2, 1, 2, 2, 2, 2, 1, 2, 2, 2, 1, 2, 2, 2, 1,\n",
        "       2, 2, 1, 2, 2, 2, 2, 1, 2, 2, 2, 1, 2, 2, 1, 2, 2, 2, 2, 2, 1, 2,\n",
        "       2, 2, 2,2, 2, 2, 1, 2, 2, 2, 2, 1, 2, 2, 2, 2, 1, 2, 2, 2, 1, 2, 2, 2, 1,\n",
        "       2, 2, 1, 2, 2, 2, 2, 1, 2, 2, 2, 1, 2, 2, 1, 2, 2, 2, 2, 2, 1, 2,\n",
        "       2, 2, 2,2, 2, 2, 1, 2, 2, 2, 2, 1, 2, 2, 2, 2, 1, 2, 2, 2, 1, 2, 2, 2, 1,\n",
        "       2, 2, 1, 2, 2, 2, 2, 1, 2, 2, 2, 1, 2, 2, 1, 2, 2, 2, 2, 2, 1, 2,\n",
        "       2, 2, 2,2, 2, 2, 1, 2, 2, 2, 2, 1, 2, 2, 2, 2, 1, 2, 2, 2, 1, 2, 2, 2, 1,\n",
        "       2, 2, 1, 2, 2, 2, 2, 1, 2, 2, 2, 1, 2, 2, 1, 2, 2, 2, 2, 2, 1, 2,\n",
        "       2, 2, 2,2, 2, 2, 1, 2, 2, 2, 2, 1, 2, 2, 2, 2, 1, 2, 2, 2, 1, 2, 2, 2, 1,\n",
        "       2, 2, 1, 2, 2, 2, 2, 1, 2, 2, 2, 1, 2, 2, 1, 2, 2, 2, 2, 2, 1, 2,\n",
        "       2, 2, 2])])\n",
        "\n",
        "def gen_train_series_2():\n",
        "    for eg in train_for:\n",
        "      yield eg[0],eg[1]\n",
        "\n",
        "series_test_2 = tf.data.Dataset.from_generator(gen_train_series_2,output_types=(tf.int32, tf.int32),output_shapes = ((None, None)))\n",
        "ds_series_batch_test_2 = series_test_2.padded_batch(BATCH_SIZE, padded_shapes=([None], [None]), drop_remainder=True)"
      ],
      "metadata": {
        "id": "NUf2GBuJhFPY"
      },
      "execution_count": null,
      "outputs": []
    },
    {
      "cell_type": "code",
      "source": [
        "a = 0\n",
        "\n",
        "for input_example_batch, target_example_batch in ds_series_batch_test_2:\n",
        "  pred = model.predict(input_example_batch, batch_size=1)\n",
        "  pred_max=tf.argmax(tf.nn.softmax(pred),2).numpy().flatten()\n",
        "  # p = np.argmax(p, axis=-1)\n",
        "  print(\"{:14} ({:5}): {}\".format(\"Word\", \"True\", \"Pred\"))\n",
        "  print(input_example_batch)\n",
        "  print(pred_max)\n",
        "  # for w,pred in zip(input_example_batch,p[0]):\n",
        "  #   print(\"{:14}: {}\".format(words[w],tags[pred]))\n",
        "  # print()\n",
        "\n",
        "  print([idx2char[x-1] for x in input_example_batch.numpy()[0]])\n",
        "  print([idx2label[x-1] for x in target_example_batch.numpy()[0]])\n",
        "  print([idx2label[x-1] for x in pred_max])\n",
        "\n",
        "  print(\"Log message test: \\n\" + \"\".join([idx2char[x-1] for x in input_example_batch.numpy()[0]]))\n",
        "  print(\"\".join([idx2label[x-1] for x in pred_max])+ \"\\nResults\")\n",
        "\n",
        "  # print([,np.array([label2idx[x] for x in pred_max.numpy()[0]])])\n",
        "  break"
      ],
      "metadata": {
        "colab": {
          "base_uri": "https://localhost:8080/"
        },
        "id": "rZeJ_IoMiP0B",
        "outputId": "bd1debcb-ed53-4031-d13c-8eda49a995ac"
      },
      "execution_count": null,
      "outputs": [
        {
          "output_type": "stream",
          "name": "stdout",
          "text": [
            "1/1 [==============================] - 0s 72ms/step\n",
            "Word           (True ): Pred\n",
            "tf.Tensor(\n",
            "[[29 20 42  1 36 40 20 42  1 27 28 23 24  1 29 20 42  1 37 35 42  1 20 32\n",
            "   1 27 28 23 24  1 29 20 42  1  5  2 12 32 28 26 27 37  1  8  6  7  5 29\n",
            "  20 42  1 36 40 20 42  1 27 28 23 24  1 29 20 42  1 37 35 42  1 20 32  1\n",
            "  27 28 23 24  1 29 20 42  1  5  2 12 32 28 26 27 37  1  8  6  7  5 29 20\n",
            "  42  1 36 40 20 42  1 27 28 23 24  1 29 20 42  1 37 35 42  1 20 32  1 27\n",
            "  28 23 24  1 29 20 42  1  5  2 12 32 28 26 27 37  1  8  6  7  5 29 20 42\n",
            "   1 36 40 20 42  1 27 28 23 24  1 29 20 42  1 37 35 42  1 20 32  1 27 28\n",
            "  23 24  1 29 20 42  1  5  2 12 32 28 26 27 37  1  8  6  7  5 29 20 42  1\n",
            "  36 40 20 42  1 27 28 23 24  1 29 20 42  1 37 35 42  1 20 32  1 27 28 23\n",
            "  24  1 29 20 42  1  5  2 12 32 28 26 27 37  1  8  6  7  5 29 20 42  1 36\n",
            "  40 20 42  1 27 28 23 24  1 29 20 42  1 37 35 42  1 20 32  1 27 28 23 24\n",
            "   1 29 20 42  1  5  2 12 32 28 26 27 37  1  8  6  7  5 29 20 42  1 36 40\n",
            "  20 42  1 27 28 23 24  1 29 20 42  1 37 35 42  1 20 32  1 27 28 23 24  1\n",
            "  29 20 42  1  5  2 12 32 28 26 27 37  1  8  6  7  5 29 20 42  1 36 40 20\n",
            "  42  1 27 28 23 24  1 29 20 42  1 37 35 42  1 20 32  1 27 28 23 24  1 29\n",
            "  20 42  1  5  2 12 32 28 26 27 37  1  8  6  7  5 29 20 42  1 36 40 20 42\n",
            "   1 27 28 23 24  1 29 20 42  1 37 35 42  1 20 32  1 27 28 23 24  1 29 20\n",
            "  42  1  5  2 12 32 28 26 27 37  1  8  6  7  5]], shape=(1, 423), dtype=int32)\n",
            "[2 2 2 1 2 2 2 2 1 2 2 2 2 1 2 2 2 1 2 2 2 1 2 2 1 2 2 2 2 1 2 2 2 1 2 2 1\n",
            " 2 2 2 2 2 1 2 2 2 2 2 2 2 1 2 2 2 2 1 2 2 2 2 1 2 2 2 1 2 2 2 1 2 2 1 2 2\n",
            " 2 2 1 2 2 2 1 2 2 1 2 2 2 2 2 1 2 2 2 2 2 2 2 1 2 2 2 2 1 2 2 2 2 1 2 2 2\n",
            " 1 2 2 2 1 2 2 1 2 2 2 2 1 2 2 2 1 2 2 1 2 2 2 2 2 1 2 2 2 2 2 2 2 1 2 2 2\n",
            " 2 1 2 2 2 2 1 2 2 2 1 2 2 2 1 2 2 1 2 2 2 2 1 2 2 2 1 2 2 1 2 2 2 2 2 1 2\n",
            " 2 2 2 2 2 2 1 2 2 2 2 1 2 2 2 2 1 2 2 2 1 2 2 2 1 2 2 1 2 2 2 2 1 2 2 2 1\n",
            " 2 2 1 2 2 2 2 2 1 2 2 2 2 2 2 2 1 2 2 2 2 1 2 2 2 2 1 2 2 2 1 2 2 2 1 2 2\n",
            " 1 2 2 2 2 1 2 2 2 1 2 2 1 2 2 2 2 2 1 2 2 2 2 2 2 2 1 2 2 2 2 1 2 2 2 2 1\n",
            " 2 2 2 1 2 2 2 1 2 2 1 2 2 2 2 1 2 2 2 1 2 2 1 2 2 2 2 2 1 2 2 2 2 2 2 2 1\n",
            " 2 2 2 2 1 2 2 2 2 1 2 2 2 1 2 2 2 1 2 2 1 2 2 2 2 1 2 2 2 1 2 2 1 2 2 2 2\n",
            " 2 1 2 2 2 2 2 2 2 1 2 2 2 2 1 2 2 2 2 1 2 2 2 1 2 2 2 1 2 2 1 2 2 2 2 1 2\n",
            " 2 2 1 2 2 1 2 2 2 2 2 1 2 2 2 2]\n",
            "['j', 'a', 'y', ' ', 's', 'w', 'a', 'y', ' ', 'h', 'i', 'd', 'e', ' ', 'j', 'a', 'y', ' ', 't', 'r', 'y', ' ', 'a', 'm', ' ', 'h', 'i', 'd', 'e', ' ', 'j', 'a', 'y', ' ', '3', '0', ';', 'm', 'i', 'g', 'h', 't', ' ', '6', '4', '5', '3', 'j', 'a', 'y', ' ', 's', 'w', 'a', 'y', ' ', 'h', 'i', 'd', 'e', ' ', 'j', 'a', 'y', ' ', 't', 'r', 'y', ' ', 'a', 'm', ' ', 'h', 'i', 'd', 'e', ' ', 'j', 'a', 'y', ' ', '3', '0', ';', 'm', 'i', 'g', 'h', 't', ' ', '6', '4', '5', '3', 'j', 'a', 'y', ' ', 's', 'w', 'a', 'y', ' ', 'h', 'i', 'd', 'e', ' ', 'j', 'a', 'y', ' ', 't', 'r', 'y', ' ', 'a', 'm', ' ', 'h', 'i', 'd', 'e', ' ', 'j', 'a', 'y', ' ', '3', '0', ';', 'm', 'i', 'g', 'h', 't', ' ', '6', '4', '5', '3', 'j', 'a', 'y', ' ', 's', 'w', 'a', 'y', ' ', 'h', 'i', 'd', 'e', ' ', 'j', 'a', 'y', ' ', 't', 'r', 'y', ' ', 'a', 'm', ' ', 'h', 'i', 'd', 'e', ' ', 'j', 'a', 'y', ' ', '3', '0', ';', 'm', 'i', 'g', 'h', 't', ' ', '6', '4', '5', '3', 'j', 'a', 'y', ' ', 's', 'w', 'a', 'y', ' ', 'h', 'i', 'd', 'e', ' ', 'j', 'a', 'y', ' ', 't', 'r', 'y', ' ', 'a', 'm', ' ', 'h', 'i', 'd', 'e', ' ', 'j', 'a', 'y', ' ', '3', '0', ';', 'm', 'i', 'g', 'h', 't', ' ', '6', '4', '5', '3', 'j', 'a', 'y', ' ', 's', 'w', 'a', 'y', ' ', 'h', 'i', 'd', 'e', ' ', 'j', 'a', 'y', ' ', 't', 'r', 'y', ' ', 'a', 'm', ' ', 'h', 'i', 'd', 'e', ' ', 'j', 'a', 'y', ' ', '3', '0', ';', 'm', 'i', 'g', 'h', 't', ' ', '6', '4', '5', '3', 'j', 'a', 'y', ' ', 's', 'w', 'a', 'y', ' ', 'h', 'i', 'd', 'e', ' ', 'j', 'a', 'y', ' ', 't', 'r', 'y', ' ', 'a', 'm', ' ', 'h', 'i', 'd', 'e', ' ', 'j', 'a', 'y', ' ', '3', '0', ';', 'm', 'i', 'g', 'h', 't', ' ', '6', '4', '5', '3', 'j', 'a', 'y', ' ', 's', 'w', 'a', 'y', ' ', 'h', 'i', 'd', 'e', ' ', 'j', 'a', 'y', ' ', 't', 'r', 'y', ' ', 'a', 'm', ' ', 'h', 'i', 'd', 'e', ' ', 'j', 'a', 'y', ' ', '3', '0', ';', 'm', 'i', 'g', 'h', 't', ' ', '6', '4', '5', '3', 'j', 'a', 'y', ' ', 's', 'w', 'a', 'y', ' ', 'h', 'i', 'd', 'e', ' ', 'j', 'a', 'y', ' ', 't', 'r', 'y', ' ', 'a', 'm', ' ', 'h', 'i', 'd', 'e', ' ', 'j', 'a', 'y', ' ', '3', '0', ';', 'm', 'i', 'g', 'h', 't', ' ', '6', '4', '5', '3']\n",
            "['O', 'O', 'O', 'D', 'O', 'O', 'O', 'O', 'D', 'O', 'O', 'O', 'O', 'D', 'O', 'O', 'O', 'D', 'O', 'O', 'O', 'D', 'O', 'O', 'D', 'O', 'O', 'O', 'O', 'D', 'O', 'O', 'O', 'D', 'O', 'O', 'D', 'O', 'O', 'O', 'O', 'O', 'D', 'O', 'O', 'O', 'O', 'O', 'O', 'O', 'D', 'O', 'O', 'O', 'O', 'D', 'O', 'O', 'O', 'O', 'D', 'O', 'O', 'O', 'D', 'O', 'O', 'O', 'D', 'O', 'O', 'D', 'O', 'O', 'O', 'O', 'D', 'O', 'O', 'O', 'D', 'O', 'O', 'D', 'O', 'O', 'O', 'O', 'O', 'D', 'O', 'O', 'O', 'O', 'O', 'O', 'O', 'D', 'O', 'O', 'O', 'O', 'D', 'O', 'O', 'O', 'O', 'D', 'O', 'O', 'O', 'D', 'O', 'O', 'O', 'D', 'O', 'O', 'D', 'O', 'O', 'O', 'O', 'D', 'O', 'O', 'O', 'D', 'O', 'O', 'D', 'O', 'O', 'O', 'O', 'O', 'D', 'O', 'O', 'O', 'O', 'O', 'O', 'O', 'D', 'O', 'O', 'O', 'O', 'D', 'O', 'O', 'O', 'O', 'D', 'O', 'O', 'O', 'D', 'O', 'O', 'O', 'D', 'O', 'O', 'D', 'O', 'O', 'O', 'O', 'D', 'O', 'O', 'O', 'D', 'O', 'O', 'D', 'O', 'O', 'O', 'O', 'O', 'D', 'O', 'O', 'O', 'O', 'O', 'O', 'O', 'D', 'O', 'O', 'O', 'O', 'D', 'O', 'O', 'O', 'O', 'D', 'O', 'O', 'O', 'D', 'O', 'O', 'O', 'D', 'O', 'O', 'D', 'O', 'O', 'O', 'O', 'D', 'O', 'O', 'O', 'D', 'O', 'O', 'D', 'O', 'O', 'O', 'O', 'O', 'D', 'O', 'O', 'O', 'O', 'O', 'O', 'O', 'D', 'O', 'O', 'O', 'O', 'D', 'O', 'O', 'O', 'O', 'D', 'O', 'O', 'O', 'D', 'O', 'O', 'O', 'D', 'O', 'O', 'D', 'O', 'O', 'O', 'O', 'D', 'O', 'O', 'O', 'D', 'O', 'O', 'D', 'O', 'O', 'O', 'O', 'O', 'D', 'O', 'O', 'O', 'O', 'O', 'O', 'O', 'D', 'O', 'O', 'O', 'O', 'D', 'O', 'O', 'O', 'O', 'D', 'O', 'O', 'O', 'D', 'O', 'O', 'O', 'D', 'O', 'O', 'D', 'O', 'O', 'O', 'O', 'D', 'O', 'O', 'O', 'D', 'O', 'O', 'D', 'O', 'O', 'O', 'O', 'O', 'D', 'O', 'O', 'O', 'O', 'O', 'O', 'O', 'D', 'O', 'O', 'O', 'O', 'D', 'O', 'O', 'O', 'O', 'D', 'O', 'O', 'O', 'D', 'O', 'O', 'O', 'D', 'O', 'O', 'D', 'O', 'O', 'O', 'O', 'D', 'O', 'O', 'O', 'D', 'O', 'O', 'D', 'O', 'O', 'O', 'O', 'O', 'D', 'O', 'O', 'O', 'O', 'O', 'O', 'O', 'D', 'O', 'O', 'O', 'O', 'D', 'O', 'O', 'O', 'O', 'D', 'O', 'O', 'O', 'D', 'O', 'O', 'O', 'D', 'O', 'O', 'D', 'O', 'O', 'O', 'O', 'D', 'O', 'O', 'O', 'D', 'O', 'O', 'D', 'O', 'O', 'O', 'O', 'O', 'D', 'O', 'O', 'O', 'O']\n",
            "['O', 'O', 'O', 'D', 'O', 'O', 'O', 'O', 'D', 'O', 'O', 'O', 'O', 'D', 'O', 'O', 'O', 'D', 'O', 'O', 'O', 'D', 'O', 'O', 'D', 'O', 'O', 'O', 'O', 'D', 'O', 'O', 'O', 'D', 'O', 'O', 'D', 'O', 'O', 'O', 'O', 'O', 'D', 'O', 'O', 'O', 'O', 'O', 'O', 'O', 'D', 'O', 'O', 'O', 'O', 'D', 'O', 'O', 'O', 'O', 'D', 'O', 'O', 'O', 'D', 'O', 'O', 'O', 'D', 'O', 'O', 'D', 'O', 'O', 'O', 'O', 'D', 'O', 'O', 'O', 'D', 'O', 'O', 'D', 'O', 'O', 'O', 'O', 'O', 'D', 'O', 'O', 'O', 'O', 'O', 'O', 'O', 'D', 'O', 'O', 'O', 'O', 'D', 'O', 'O', 'O', 'O', 'D', 'O', 'O', 'O', 'D', 'O', 'O', 'O', 'D', 'O', 'O', 'D', 'O', 'O', 'O', 'O', 'D', 'O', 'O', 'O', 'D', 'O', 'O', 'D', 'O', 'O', 'O', 'O', 'O', 'D', 'O', 'O', 'O', 'O', 'O', 'O', 'O', 'D', 'O', 'O', 'O', 'O', 'D', 'O', 'O', 'O', 'O', 'D', 'O', 'O', 'O', 'D', 'O', 'O', 'O', 'D', 'O', 'O', 'D', 'O', 'O', 'O', 'O', 'D', 'O', 'O', 'O', 'D', 'O', 'O', 'D', 'O', 'O', 'O', 'O', 'O', 'D', 'O', 'O', 'O', 'O', 'O', 'O', 'O', 'D', 'O', 'O', 'O', 'O', 'D', 'O', 'O', 'O', 'O', 'D', 'O', 'O', 'O', 'D', 'O', 'O', 'O', 'D', 'O', 'O', 'D', 'O', 'O', 'O', 'O', 'D', 'O', 'O', 'O', 'D', 'O', 'O', 'D', 'O', 'O', 'O', 'O', 'O', 'D', 'O', 'O', 'O', 'O', 'O', 'O', 'O', 'D', 'O', 'O', 'O', 'O', 'D', 'O', 'O', 'O', 'O', 'D', 'O', 'O', 'O', 'D', 'O', 'O', 'O', 'D', 'O', 'O', 'D', 'O', 'O', 'O', 'O', 'D', 'O', 'O', 'O', 'D', 'O', 'O', 'D', 'O', 'O', 'O', 'O', 'O', 'D', 'O', 'O', 'O', 'O', 'O', 'O', 'O', 'D', 'O', 'O', 'O', 'O', 'D', 'O', 'O', 'O', 'O', 'D', 'O', 'O', 'O', 'D', 'O', 'O', 'O', 'D', 'O', 'O', 'D', 'O', 'O', 'O', 'O', 'D', 'O', 'O', 'O', 'D', 'O', 'O', 'D', 'O', 'O', 'O', 'O', 'O', 'D', 'O', 'O', 'O', 'O', 'O', 'O', 'O', 'D', 'O', 'O', 'O', 'O', 'D', 'O', 'O', 'O', 'O', 'D', 'O', 'O', 'O', 'D', 'O', 'O', 'O', 'D', 'O', 'O', 'D', 'O', 'O', 'O', 'O', 'D', 'O', 'O', 'O', 'D', 'O', 'O', 'D', 'O', 'O', 'O', 'O', 'O', 'D', 'O', 'O', 'O', 'O', 'O', 'O', 'O', 'D', 'O', 'O', 'O', 'O', 'D', 'O', 'O', 'O', 'O', 'D', 'O', 'O', 'O', 'D', 'O', 'O', 'O', 'D', 'O', 'O', 'D', 'O', 'O', 'O', 'O', 'D', 'O', 'O', 'O', 'D', 'O', 'O', 'D', 'O', 'O', 'O', 'O', 'O', 'D', 'O', 'O', 'O', 'O']\n",
            "Log message test: \n",
            "jay sway hide jay try am hide jay 30;might 6453jay sway hide jay try am hide jay 30;might 6453jay sway hide jay try am hide jay 30;might 6453jay sway hide jay try am hide jay 30;might 6453jay sway hide jay try am hide jay 30;might 6453jay sway hide jay try am hide jay 30;might 6453jay sway hide jay try am hide jay 30;might 6453jay sway hide jay try am hide jay 30;might 6453jay sway hide jay try am hide jay 30;might 6453\n",
            "OOODOOOODOOOODOOODOOODOODOOOODOOODOODOOOOODOOOOOOODOOOODOOOODOOODOOODOODOOOODOOODOODOOOOODOOOOOOODOOOODOOOODOOODOOODOODOOOODOOODOODOOOOODOOOOOOODOOOODOOOODOOODOOODOODOOOODOOODOODOOOOODOOOOOOODOOOODOOOODOOODOOODOODOOOODOOODOODOOOOODOOOOOOODOOOODOOOODOOODOOODOODOOOODOOODOODOOOOODOOOOOOODOOOODOOOODOOODOOODOODOOOODOOODOODOOOOODOOOOOOODOOOODOOOODOOODOOODOODOOOODOOODOODOOOOODOOOOOOODOOOODOOOODOOODOOODOODOOOODOOODOODOOOOODOOOO\n",
            "Results\n"
          ]
        }
      ]
    },
    {
      "cell_type": "code",
      "source": [],
      "metadata": {
        "id": "LJsnZ3nAiZl7"
      },
      "execution_count": null,
      "outputs": []
    }
  ]
}